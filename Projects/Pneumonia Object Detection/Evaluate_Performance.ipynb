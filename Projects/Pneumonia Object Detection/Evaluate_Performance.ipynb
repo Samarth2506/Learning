{
  "nbformat": 4,
  "nbformat_minor": 0,
  "metadata": {
    "colab": {
      "name": "Evaluate_Performance.ipynb",
      "provenance": [],
      "collapsed_sections": []
    },
    "kernelspec": {
      "name": "python3",
      "display_name": "Python 3"
    }
  },
  "cells": [
    {
      "cell_type": "markdown",
      "metadata": {
        "id": "QFJYmSDHj3k7",
        "colab_type": "text"
      },
      "source": [
        "# Evaluate test performance for object detection task"
      ]
    },
    {
      "cell_type": "code",
      "metadata": {
        "id": "DlRp6dBPodbL",
        "colab_type": "code",
        "outputId": "0a45537f-7d57-4d96-c165-9c97d75aca2c",
        "colab": {
          "base_uri": "https://localhost:8080/",
          "height": 125
        }
      },
      "source": [
        "from google.colab import drive\n",
        "drive.mount('/content/gdrive')"
      ],
      "execution_count": 0,
      "outputs": [
        {
          "output_type": "stream",
          "text": [
            "Go to this URL in a browser: https://accounts.google.com/o/oauth2/auth?client_id=947318989803-6bn6qk8qdgf4n4g3pfee6491hc0brc4i.apps.googleusercontent.com&redirect_uri=urn%3aietf%3awg%3aoauth%3a2.0%3aoob&response_type=code&scope=email%20https%3a%2f%2fwww.googleapis.com%2fauth%2fdocs.test%20https%3a%2f%2fwww.googleapis.com%2fauth%2fdrive%20https%3a%2f%2fwww.googleapis.com%2fauth%2fdrive.photos.readonly%20https%3a%2f%2fwww.googleapis.com%2fauth%2fpeopleapi.readonly\n",
            "\n",
            "Enter your authorization code:\n",
            "··········\n",
            "Mounted at /content/gdrive\n"
          ],
          "name": "stdout"
        }
      ]
    },
    {
      "cell_type": "markdown",
      "metadata": {
        "id": "J0OtUJrlo7xj",
        "colab_type": "text"
      },
      "source": [
        "# Get Data"
      ]
    },
    {
      "cell_type": "code",
      "metadata": {
        "id": "tZb2Na1WuMj_",
        "colab_type": "code",
        "outputId": "05ccb25a-9768-470e-82ae-7f39559b294c",
        "colab": {
          "base_uri": "https://localhost:8080/",
          "height": 34
        }
      },
      "source": [
        "%matplotlib inline\n",
        "import os\n",
        "import time\n",
        "\n",
        "import skimage \n",
        "from skimage.transform import resize\n",
        "from skimage.exposure import rescale_intensity\n",
        "from scipy.ndimage.interpolation import map_coordinates\n",
        "from scipy.ndimage.filters import gaussian_filter\n",
        "import PIL\n",
        "\n",
        "import torch\n",
        "import torch.nn.functional as F\n",
        "from torch import nn\n",
        "from torch.utils.data import DataLoader\n",
        "from torch.utils.data.dataset import Dataset as torchDataset\n",
        "import torchvision as tv\n",
        "from torch.autograd import Variable\n",
        "\n",
        "import numpy as np\n",
        "import pandas as pd\n",
        "import matplotlib.pyplot as plt\n",
        "import matplotlib as mpl\n",
        "from matplotlib.patches import Rectangle\n",
        "\n",
        "import shutil\n",
        "\n",
        "!pip install pydicom --quiet\n",
        "import pydicom\n",
        "\n",
        "import warnings\n",
        "warnings.simplefilter(action='ignore', category=FutureWarning)\n",
        "warnings.catch_warnings()\n",
        "\n",
        "gpu_available = True\n",
        "\n",
        "original_image_shape = 1024\n",
        "\n",
        "datapath_orig = '/content/3. Object Identification/'\n",
        "datapath_prep = '/content/gdrive/My Drive/Hackathon/'\n",
        "datapath_out = '/content/gdrive/My Drive/Hackathon/'"
      ],
      "execution_count": 0,
      "outputs": [
        {
          "output_type": "stream",
          "text": [
            "\u001b[K     |████████████████████████████████| 35.3MB 131kB/s \n",
            "\u001b[?25h"
          ],
          "name": "stdout"
        }
      ]
    },
    {
      "cell_type": "markdown",
      "metadata": {
        "id": "8UJ9mqNNlioo",
        "colab_type": "text"
      },
      "source": [
        "# Helper Functions"
      ]
    },
    {
      "cell_type": "code",
      "metadata": {
        "id": "sbFdnWaelh5I",
        "colab_type": "code",
        "colab": {}
      },
      "source": [
        "def box_mask(box, shape=1024):\n",
        "    \"\"\"\n",
        "    :param box: [x, y, w, h] box coordinates\n",
        "    :param shape: shape of the image (default set to maximum possible value, set to smaller to save memory)\n",
        "    :returns: (np.array of bool) mask as binary 2D array\n",
        "    \"\"\"\n",
        "    x, y, w, h = box\n",
        "    mask = np.zeros((shape, shape), dtype=bool)\n",
        "    mask[int(y):int(y+h), int(x):int(x+w)] = True \n",
        "    return mask\n",
        "\n",
        "def IoU(pr, gt):\n",
        "    \"\"\"\n",
        "    :param pr: (numpy_array(bool)) prediction array \n",
        "    :param gt: (numpy_array(bool)) ground truth array \n",
        "    :returns: IoU (pr, gt) = intersection (pr, gt) / union (pr, gt)\n",
        "    \"\"\"\n",
        "    IoU = (pr & gt).sum() / ((pr | gt).sum() + 1.e-9)\n",
        "    return IoU"
      ],
      "execution_count": 0,
      "outputs": []
    },
    {
      "cell_type": "markdown",
      "metadata": {
        "id": "WUnlbIB0lpsR",
        "colab_type": "text"
      },
      "source": [
        "# Hits calculate function"
      ]
    },
    {
      "cell_type": "code",
      "metadata": {
        "id": "MbKeD8w4luXl",
        "colab_type": "code",
        "colab": {}
      },
      "source": [
        "def hits(preds_test, ground_truth, shape=1024):\n",
        "    correct = 0\n",
        "    total = len(ground_truth)\n",
        "\n",
        "    for index, pred in enumerate(preds_test):\n",
        "      if pred == [] and ground_truth[index] == []:\n",
        "        correct+=1\n",
        "      else:\n",
        "          if len(pred)>0 and ground_truth[index] == []:\n",
        "              pass\n",
        "          elif len(ground_truth[index])>0 and pred == []:\n",
        "              pass\n",
        "          else:\n",
        "            found = False\n",
        "            for box_p in pred: \n",
        "                      box_p_msk = box_mask(box_p, shape) \n",
        "                      for box_t in ground_truth[index]: \n",
        "                          box_t_msk = box_mask(box_t, shape) \n",
        "                          iou = IoU(box_p_msk, box_t_msk) \n",
        "                          if iou>0.5:\n",
        "                            found = True\n",
        "            if found:\n",
        "              correct +=1\n",
        "    return correct/total\n",
        "            "
      ],
      "execution_count": 0,
      "outputs": []
    },
    {
      "cell_type": "markdown",
      "metadata": {
        "id": "B28dRkLlyKVE",
        "colab_type": "text"
      },
      "source": [
        "# Calculate IOU hits"
      ]
    },
    {
      "cell_type": "code",
      "metadata": {
        "id": "Dp-SzdI4pDNg",
        "colab_type": "code",
        "colab": {}
      },
      "source": [
        "def IoU(pr, gt):\n",
        "    \"\"\"\n",
        "    :param pr: (numpy_array(bool)) prediction array \n",
        "    :param gt: (numpy_array(bool)) ground truth array \n",
        "    :returns: IoU (pr, gt) = intersection (pr, gt) / union (pr, gt)\n",
        "    \"\"\"\n",
        "    IoU = (pr & gt).sum() / ((pr | gt).sum() + 1.e-9)\n",
        "    return IoU"
      ],
      "execution_count": 0,
      "outputs": []
    },
    {
      "cell_type": "code",
      "metadata": {
        "id": "V8nbgFXuzWIJ",
        "colab_type": "code",
        "outputId": "c2a2e649-0ef6-4b8c-9e01-c35c456c8b1c",
        "colab": {
          "base_uri": "https://localhost:8080/",
          "height": 197
        }
      },
      "source": [
        "df_test = pd.read_csv(\"/content/gdrive/My Drive/Hackathon/test.csv\")\n",
        "df_test.head()"
      ],
      "execution_count": 0,
      "outputs": [
        {
          "output_type": "execute_result",
          "data": {
            "text/html": [
              "<div>\n",
              "<style scoped>\n",
              "    .dataframe tbody tr th:only-of-type {\n",
              "        vertical-align: middle;\n",
              "    }\n",
              "\n",
              "    .dataframe tbody tr th {\n",
              "        vertical-align: top;\n",
              "    }\n",
              "\n",
              "    .dataframe thead th {\n",
              "        text-align: right;\n",
              "    }\n",
              "</style>\n",
              "<table border=\"1\" class=\"dataframe\">\n",
              "  <thead>\n",
              "    <tr style=\"text-align: right;\">\n",
              "      <th></th>\n",
              "      <th>patientId</th>\n",
              "      <th>x</th>\n",
              "      <th>y</th>\n",
              "      <th>width</th>\n",
              "      <th>height</th>\n",
              "      <th>Target</th>\n",
              "      <th>class</th>\n",
              "      <th>PatientSex</th>\n",
              "      <th>PatientAge</th>\n",
              "      <th>ViewPosition</th>\n",
              "    </tr>\n",
              "  </thead>\n",
              "  <tbody>\n",
              "    <tr>\n",
              "      <th>0</th>\n",
              "      <td>7c2ad76c-88a5-4a25-a0e4-49437ea5f628</td>\n",
              "      <td>NaN</td>\n",
              "      <td>NaN</td>\n",
              "      <td>NaN</td>\n",
              "      <td>NaN</td>\n",
              "      <td>0</td>\n",
              "      <td>Normal</td>\n",
              "      <td>M</td>\n",
              "      <td>73.0</td>\n",
              "      <td>PA</td>\n",
              "    </tr>\n",
              "    <tr>\n",
              "      <th>1</th>\n",
              "      <td>503cee4f-1ffe-478e-b3b7-0ced2ae1d5b0</td>\n",
              "      <td>NaN</td>\n",
              "      <td>NaN</td>\n",
              "      <td>NaN</td>\n",
              "      <td>NaN</td>\n",
              "      <td>0</td>\n",
              "      <td>No Lung Opacity / Not Normal</td>\n",
              "      <td>M</td>\n",
              "      <td>60.0</td>\n",
              "      <td>PA</td>\n",
              "    </tr>\n",
              "    <tr>\n",
              "      <th>2</th>\n",
              "      <td>8a2ff8f3-6c66-4d64-9fd1-59fc17c2d59e</td>\n",
              "      <td>542.0</td>\n",
              "      <td>87.0</td>\n",
              "      <td>270.0</td>\n",
              "      <td>703.0</td>\n",
              "      <td>1</td>\n",
              "      <td>Lung Opacity</td>\n",
              "      <td>M</td>\n",
              "      <td>32.0</td>\n",
              "      <td>AP</td>\n",
              "    </tr>\n",
              "    <tr>\n",
              "      <th>3</th>\n",
              "      <td>73176c86-28cb-425b-9744-27b76446aabf</td>\n",
              "      <td>NaN</td>\n",
              "      <td>NaN</td>\n",
              "      <td>NaN</td>\n",
              "      <td>NaN</td>\n",
              "      <td>0</td>\n",
              "      <td>Normal</td>\n",
              "      <td>M</td>\n",
              "      <td>34.0</td>\n",
              "      <td>PA</td>\n",
              "    </tr>\n",
              "    <tr>\n",
              "      <th>4</th>\n",
              "      <td>f75f713d-fbf5-4844-a112-f8d0e6683ff9</td>\n",
              "      <td>NaN</td>\n",
              "      <td>NaN</td>\n",
              "      <td>NaN</td>\n",
              "      <td>NaN</td>\n",
              "      <td>0</td>\n",
              "      <td>Normal</td>\n",
              "      <td>M</td>\n",
              "      <td>59.0</td>\n",
              "      <td>PA</td>\n",
              "    </tr>\n",
              "  </tbody>\n",
              "</table>\n",
              "</div>"
            ],
            "text/plain": [
              "                              patientId      x  ...  PatientAge  ViewPosition\n",
              "0  7c2ad76c-88a5-4a25-a0e4-49437ea5f628    NaN  ...        73.0            PA\n",
              "1  503cee4f-1ffe-478e-b3b7-0ced2ae1d5b0    NaN  ...        60.0            PA\n",
              "2  8a2ff8f3-6c66-4d64-9fd1-59fc17c2d59e  542.0  ...        32.0            AP\n",
              "3  73176c86-28cb-425b-9744-27b76446aabf    NaN  ...        34.0            PA\n",
              "4  f75f713d-fbf5-4844-a112-f8d0e6683ff9    NaN  ...        59.0            PA\n",
              "\n",
              "[5 rows x 10 columns]"
            ]
          },
          "metadata": {
            "tags": []
          },
          "execution_count": 17
        }
      ]
    },
    {
      "cell_type": "markdown",
      "metadata": {
        "id": "riBTibAnjroJ",
        "colab_type": "text"
      },
      "source": [
        "# Check test performance"
      ]
    },
    {
      "cell_type": "code",
      "metadata": {
        "id": "Qo7uKnO1o1ks",
        "colab_type": "code",
        "colab": {}
      },
      "source": [
        "box_patients = df_test.dropna()\n",
        "ground_truth = []\n",
        "preds = []\n",
        "\n",
        "test_ids = list(df_test['patientId'])\n",
        "\n",
        "for id in test_ids:\n",
        "  try:\n",
        "    info = box_patients.loc[box_patients['patientId'] == id].loc[:, ['x','y','width','height']]\n",
        "    ground_truth.append(info.values.tolist())\n",
        "  except KeyError:\n",
        "    ground_truth.append([])"
      ],
      "execution_count": 0,
      "outputs": []
    },
    {
      "cell_type": "code",
      "metadata": {
        "id": "TOFuymiCybt8",
        "colab_type": "code",
        "colab": {}
      },
      "source": [
        "import pickle\n",
        "preds_test = pickle.load( open('/content/gdrive/My Drive/Hackathon/preds_boxes.pkl', 'rb'))"
      ],
      "execution_count": 0,
      "outputs": []
    },
    {
      "cell_type": "code",
      "metadata": {
        "id": "TTqlvDPhTL5X",
        "colab_type": "code",
        "outputId": "d1f73ff4-6509-435f-b5d7-5c6d32abd8e1",
        "colab": {
          "base_uri": "https://localhost:8080/",
          "height": 34
        }
      },
      "source": [
        "print(\"Hit percent : \", hits(preds_test, ground_truth)*100, \"%\")"
      ],
      "execution_count": 0,
      "outputs": [
        {
          "output_type": "stream",
          "text": [
            "Hit percent :  40.505491597194656 %\n"
          ],
          "name": "stdout"
        }
      ]
    },
    {
      "cell_type": "code",
      "metadata": {
        "id": "PDgBqPSOTPLO",
        "colab_type": "code",
        "colab": {}
      },
      "source": [
        ""
      ],
      "execution_count": 0,
      "outputs": []
    }
  ]
}