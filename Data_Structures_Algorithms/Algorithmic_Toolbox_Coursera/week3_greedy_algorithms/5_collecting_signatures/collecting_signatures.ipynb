{
 "cells": [
  {
   "cell_type": "code",
   "execution_count": 56,
   "metadata": {},
   "outputs": [],
   "source": [
    "def optimal_points(segments):\n",
    "    points = []\n",
    "    results_union = []\n",
    "    #write your code here\n",
    "    segments.sort(key = lambda x: x[0])\n",
    "    for i in range(len(segments)):\n",
    "        points.append(list(range(segments[i][0],segments[i][1]+1)))\n",
    "        \n",
    "        if i%2 == 1 and i!=0:\n",
    "            results_union.append(list(set.intersection(*map(set, points))))\n",
    "            points = []\n",
    "    results_union = [max(x) for x in results_union ]\n",
    "        \n",
    "    return results_union"
   ]
  },
  {
   "cell_type": "code",
   "execution_count": 57,
   "metadata": {},
   "outputs": [
    {
     "data": {
      "text/plain": [
       "[3]"
      ]
     },
     "execution_count": 57,
     "metadata": {},
     "output_type": "execute_result"
    }
   ],
   "source": [
    "segments = [[1,3],[2,5], [3,6]]\n",
    "optimal_points(segments)"
   ]
  },
  {
   "cell_type": "code",
   "execution_count": 58,
   "metadata": {},
   "outputs": [
    {
     "data": {
      "text/plain": [
       "[3, 6]"
      ]
     },
     "execution_count": 58,
     "metadata": {},
     "output_type": "execute_result"
    }
   ],
   "source": [
    "segments = [[4,7],[1,3], [2,5],[5,6]]\n",
    "optimal_points(segments)"
   ]
  },
  {
   "cell_type": "code",
   "execution_count": 59,
   "metadata": {},
   "outputs": [],
   "source": [
    "def optimal_points(segments):\n",
    "    points = []\n",
    "    results_union = []\n",
    "    #write your code here\n",
    "    segments.sort(key = lambda x: x[1])\n",
    "    max_right = segments[0][1]\n",
    "    points.append(max_right)\n",
    "    for i in range(len(segments)):\n",
    "        if max_right < segments[i][0]:\n",
    "            max_right = segments[i][1]\n",
    "            points.append(max_right)\n",
    "        \n",
    "    return points"
   ]
  },
  {
   "cell_type": "code",
   "execution_count": 60,
   "metadata": {},
   "outputs": [
    {
     "data": {
      "text/plain": [
       "[3]"
      ]
     },
     "execution_count": 60,
     "metadata": {},
     "output_type": "execute_result"
    }
   ],
   "source": [
    "segments = [[1,3],[2,5], [3,6]]\n",
    "optimal_points(segments)"
   ]
  },
  {
   "cell_type": "code",
   "execution_count": 61,
   "metadata": {},
   "outputs": [
    {
     "data": {
      "text/plain": [
       "[3, 6]"
      ]
     },
     "execution_count": 61,
     "metadata": {},
     "output_type": "execute_result"
    }
   ],
   "source": [
    "segments = [[4,7],[1,3], [2,5],[5,6]]\n",
    "optimal_points(segments)"
   ]
  },
  {
   "cell_type": "code",
   "execution_count": null,
   "metadata": {},
   "outputs": [],
   "source": []
  }
 ],
 "metadata": {
  "kernelspec": {
   "display_name": "Python 3",
   "language": "python",
   "name": "python3"
  },
  "language_info": {
   "codemirror_mode": {
    "name": "ipython",
    "version": 3
   },
   "file_extension": ".py",
   "mimetype": "text/x-python",
   "name": "python",
   "nbconvert_exporter": "python",
   "pygments_lexer": "ipython3",
   "version": "3.7.7"
  }
 },
 "nbformat": 4,
 "nbformat_minor": 4
}
