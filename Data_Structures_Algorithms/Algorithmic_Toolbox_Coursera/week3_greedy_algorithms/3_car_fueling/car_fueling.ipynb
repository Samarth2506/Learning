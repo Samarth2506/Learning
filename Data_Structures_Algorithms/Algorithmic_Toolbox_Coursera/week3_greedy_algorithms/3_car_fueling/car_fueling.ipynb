{
 "cells": [
  {
   "cell_type": "code",
   "execution_count": 1,
   "metadata": {},
   "outputs": [],
   "source": [
    "def compute_min_refills(distance, tank, stops):\n",
    "    # write your code here\n",
    "    refills = 0\n",
    "    curr_dist = 0\n",
    "    \n",
    "    for i in range(len(stops)-1):\n",
    "            curr_dist = stops[i]\n",
    "            fuel_rem = tank - curr_dist\n",
    "            dist_next_stop = stops[i+1] - stops[i]\n",
    "            if dist_next_stop <= fuel_rem:\n",
    "                continue\n",
    "\n",
    "            if fuel_rem < dist_next_stop:\n",
    "                refills +=1 \n",
    "            if tank < dist_next_stop:\n",
    "                return -1\n",
    "            \n",
    "    return refills"
   ]
  },
  {
   "cell_type": "code",
   "execution_count": 5,
   "metadata": {},
   "outputs": [
    {
     "name": "stdout",
     "output_type": "stream",
     "text": [
      "3.7.7\n"
     ]
    }
   ],
   "source": [
    "from platform import python_version\n",
    "\n",
    "print(python_version())"
   ]
  },
  {
   "cell_type": "code",
   "execution_count": 37,
   "metadata": {},
   "outputs": [],
   "source": [
    "# def compute_min_refills(distance, tank, stops):\n",
    "#     # write your code here\n",
    "#     refills = 0\n",
    "#     curr_dist = 0\n",
    "#     curr_dist = stops[0]\n",
    "#     fuel_rem = tank\n",
    "    \n",
    "#     for i in range(len(stops)-1):\n",
    "#         dist_next_stop = stops[i+1] - stops[i]\n",
    "#         fuel_rem -= dist_next_stop\n",
    "#         if dist_next_stop <= fuel_rem:\n",
    "#             continue\n",
    "\n",
    "#         if fuel_rem < dist_next_stop:\n",
    "#             refills +=1 \n",
    "#             fuel_rem = tank\n",
    "#         if tank < dist_next_stop:\n",
    "#             return -1\n",
    "\n",
    "#     return refills"
   ]
  },
  {
   "cell_type": "code",
   "execution_count": 38,
   "metadata": {},
   "outputs": [
    {
     "data": {
      "text/plain": [
       "1"
      ]
     },
     "execution_count": 38,
     "metadata": {},
     "output_type": "execute_result"
    }
   ],
   "source": [
    "compute_min_refills(950,400, [250,375,550,750])"
   ]
  },
  {
   "cell_type": "code",
   "execution_count": 33,
   "metadata": {},
   "outputs": [
    {
     "data": {
      "text/plain": [
       "-1"
      ]
     },
     "execution_count": 33,
     "metadata": {},
     "output_type": "execute_result"
    }
   ],
   "source": [
    "compute_min_refills(10,3, [1,2,5,9])"
   ]
  },
  {
   "cell_type": "code",
   "execution_count": 34,
   "metadata": {},
   "outputs": [
    {
     "data": {
      "text/plain": [
       "0"
      ]
     },
     "execution_count": 34,
     "metadata": {},
     "output_type": "execute_result"
    }
   ],
   "source": [
    "compute_min_refills(200,250, [100,150])"
   ]
  },
  {
   "cell_type": "code",
   "execution_count": null,
   "metadata": {},
   "outputs": [],
   "source": []
  }
 ],
 "metadata": {
  "kernelspec": {
   "display_name": "Python 3",
   "language": "python",
   "name": "python3"
  },
  "language_info": {
   "codemirror_mode": {
    "name": "ipython",
    "version": 3
   },
   "file_extension": ".py",
   "mimetype": "text/x-python",
   "name": "python",
   "nbconvert_exporter": "python",
   "pygments_lexer": "ipython3",
   "version": "3.7.7"
  }
 },
 "nbformat": 4,
 "nbformat_minor": 2
}
