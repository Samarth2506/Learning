{
 "cells": [
  {
   "cell_type": "code",
   "execution_count": 2,
   "metadata": {},
   "outputs": [],
   "source": [
    "import numpy as np"
   ]
  },
  {
   "cell_type": "code",
   "execution_count": 55,
   "metadata": {},
   "outputs": [],
   "source": [
    "def get_optimal_value(capacity, weights, values):\n",
    "    value = 0\n",
    "    max_capacity = capacity[0]\n",
    "    \n",
    "    weights = np.array(weights)\n",
    "    values = np.array(values)\n",
    "    per_unit_val = (values/weights).argsort()[::-1]\n",
    "    \n",
    "    while max_capacity != 0:\n",
    "        for i in range(capacity[1]):\n",
    "            weight_increment = min(max_capacity, weights[per_unit_val[i]])\n",
    "            max_capacity -= weight_increment\n",
    "            value +=   (values[per_unit_val[i]]/weights[per_unit_val[i]])*weight_increment\n",
    "    \n",
    "    return value"
   ]
  },
  {
   "cell_type": "code",
   "execution_count": 57,
   "metadata": {},
   "outputs": [],
   "source": [
    "capacity = [7, 3]\n",
    "weights = [4,3,2]\n",
    "values = [20,18,14]"
   ]
  },
  {
   "cell_type": "code",
   "execution_count": 58,
   "metadata": {},
   "outputs": [
    {
     "data": {
      "text/plain": [
       "42.0"
      ]
     },
     "execution_count": 58,
     "metadata": {},
     "output_type": "execute_result"
    }
   ],
   "source": [
    "get_optimal_value(capacity, weights, values)"
   ]
  },
  {
   "cell_type": "code",
   "execution_count": 63,
   "metadata": {},
   "outputs": [
    {
     "data": {
      "text/plain": [
       "180.0"
      ]
     },
     "execution_count": 63,
     "metadata": {},
     "output_type": "execute_result"
    }
   ],
   "source": [
    "capacity = [50,3]\n",
    "weights = [20,50,30]\n",
    "values = [60,100,120]\n",
    "\n",
    "get_optimal_value(capacity, weights, values)"
   ]
  },
  {
   "cell_type": "code",
   "execution_count": 64,
   "metadata": {},
   "outputs": [
    {
     "data": {
      "text/plain": [
       "166.66666666666669"
      ]
     },
     "execution_count": 64,
     "metadata": {},
     "output_type": "execute_result"
    }
   ],
   "source": [
    "capacity = [10,1]\n",
    "weights = [30]\n",
    "values = [500]\n",
    "\n",
    "get_optimal_value(capacity, weights, values)"
   ]
  },
  {
   "cell_type": "code",
   "execution_count": null,
   "metadata": {},
   "outputs": [],
   "source": []
  }
 ],
 "metadata": {
  "kernelspec": {
   "display_name": "Python 3",
   "language": "python",
   "name": "python3"
  },
  "language_info": {
   "codemirror_mode": {
    "name": "ipython",
    "version": 3
   },
   "file_extension": ".py",
   "mimetype": "text/x-python",
   "name": "python",
   "nbconvert_exporter": "python",
   "pygments_lexer": "ipython3",
   "version": "3.7.7"
  }
 },
 "nbformat": 4,
 "nbformat_minor": 4
}
