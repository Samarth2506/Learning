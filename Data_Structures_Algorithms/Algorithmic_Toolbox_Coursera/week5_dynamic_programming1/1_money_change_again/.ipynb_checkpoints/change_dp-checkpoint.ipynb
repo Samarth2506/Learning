{
 "cells": [
  {
   "cell_type": "code",
   "execution_count": 11,
   "metadata": {},
   "outputs": [],
   "source": [
    "import numpy as np\n",
    "def get_change(denoms, m):\n",
    "    #write your code here\n",
    "    min_num_coins = [None]* (m+1)\n",
    "    min_num_coins[0] = 0\n",
    "    \n",
    "    for i in range(1,m+1):\n",
    "        min_num_coins[i] = np.inf\n",
    "        for coin in denoms:\n",
    "            if i>= coin:\n",
    "                print(i)\n",
    "                print(coin)\n",
    "                temp = min_num_coins[i - coin] + 1\n",
    "                if temp < min_num_coins[i]:\n",
    "                    min_num_coins[i] = temp\n",
    "            else:\n",
    "                break\n",
    "                \n",
    "    return min_num_coins[m]"
   ]
  },
  {
   "cell_type": "code",
   "execution_count": 12,
   "metadata": {},
   "outputs": [
    {
     "name": "stdout",
     "output_type": "stream",
     "text": [
      "1\n",
      "1\n",
      "2\n",
      "1\n",
      "3\n",
      "1\n",
      "3\n",
      "3\n",
      "4\n",
      "1\n",
      "4\n",
      "3\n",
      "4\n",
      "4\n",
      "5\n",
      "1\n",
      "5\n",
      "3\n",
      "5\n",
      "4\n",
      "6\n",
      "1\n",
      "6\n",
      "3\n",
      "6\n",
      "4\n"
     ]
    },
    {
     "data": {
      "text/plain": [
       "2"
      ]
     },
     "execution_count": 12,
     "metadata": {},
     "output_type": "execute_result"
    }
   ],
   "source": [
    "denoms = [1,3,4]\n",
    "m = 6\n",
    "\n",
    "get_change(denoms, m)"
   ]
  },
  {
   "cell_type": "code",
   "execution_count": null,
   "metadata": {},
   "outputs": [],
   "source": []
  }
 ],
 "metadata": {
  "kernelspec": {
   "display_name": "Python 3",
   "language": "python",
   "name": "python3"
  },
  "language_info": {
   "codemirror_mode": {
    "name": "ipython",
    "version": 3
   },
   "file_extension": ".py",
   "mimetype": "text/x-python",
   "name": "python",
   "nbconvert_exporter": "python",
   "pygments_lexer": "ipython3",
   "version": "3.7.7"
  }
 },
 "nbformat": 4,
 "nbformat_minor": 4
}
