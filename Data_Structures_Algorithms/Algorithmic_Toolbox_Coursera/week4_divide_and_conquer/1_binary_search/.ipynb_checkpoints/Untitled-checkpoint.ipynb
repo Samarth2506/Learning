{
 "cells": [
  {
   "cell_type": "code",
   "execution_count": 45,
   "metadata": {},
   "outputs": [],
   "source": [
    "import math\n",
    "def binary_recurse(a,low, high, key):\n",
    "    if high < low:\n",
    "        return -1\n",
    "    mid = low + (high - low)//2\n",
    "    if a[mid] == key:\n",
    "        return mid\n",
    "    elif key < a[mid]:\n",
    "        return binary_recurse(a, low, mid-1,key)\n",
    "    else:\n",
    "        return binary_recurse(a,mid+1,high,key)\n",
    "\n",
    "def binary_search(a, x):\n",
    "    answer = []\n",
    "    low, high = 0, len(a)-1\n",
    "    for xi in x:\n",
    "        answer.append(binary_recurse(a,low,high,xi))\n",
    "    return answer\n",
    "    # write your code here\n",
    "\n",
    "def linear_search(a, x):\n",
    "    for i in range(len(a)):\n",
    "        if a[i] == x:\n",
    "            return i\n",
    "    return -1"
   ]
  },
  {
   "cell_type": "code",
   "execution_count": 46,
   "metadata": {},
   "outputs": [],
   "source": [
    "a = [1,5,8,12,13]\n",
    "x = [8,1,23,1,11]"
   ]
  },
  {
   "cell_type": "code",
   "execution_count": 47,
   "metadata": {},
   "outputs": [
    {
     "data": {
      "text/plain": [
       "[2, 0, -1, 0, -1]"
      ]
     },
     "execution_count": 47,
     "metadata": {},
     "output_type": "execute_result"
    }
   ],
   "source": [
    "answer = []\n",
    "for xi in x:\n",
    "    answer.append(linear_search(a,xi))\n",
    "answer"
   ]
  },
  {
   "cell_type": "code",
   "execution_count": 48,
   "metadata": {},
   "outputs": [
    {
     "name": "stdout",
     "output_type": "stream",
     "text": [
      "[2, 0, -1, 0, -1]\n"
     ]
    }
   ],
   "source": [
    "print(binary_search(a,x))"
   ]
  },
  {
   "cell_type": "code",
   "execution_count": 35,
   "metadata": {},
   "outputs": [
    {
     "data": {
      "text/plain": [
       "4"
      ]
     },
     "execution_count": 35,
     "metadata": {},
     "output_type": "execute_result"
    }
   ],
   "source": [
    "8//2"
   ]
  },
  {
   "cell_type": "code",
   "execution_count": null,
   "metadata": {},
   "outputs": [],
   "source": []
  }
 ],
 "metadata": {
  "kernelspec": {
   "display_name": "Python 3",
   "language": "python",
   "name": "python3"
  },
  "language_info": {
   "codemirror_mode": {
    "name": "ipython",
    "version": 3
   },
   "file_extension": ".py",
   "mimetype": "text/x-python",
   "name": "python",
   "nbconvert_exporter": "python",
   "pygments_lexer": "ipython3",
   "version": "3.7.7"
  }
 },
 "nbformat": 4,
 "nbformat_minor": 4
}
