{
 "cells": [
  {
   "cell_type": "code",
   "execution_count": 6,
   "metadata": {},
   "outputs": [],
   "source": [
    "import random\n",
    "\n",
    "def partition3(a, l, r):\n",
    "    #write your code here\n",
    "    x = a[l]\n",
    "    j = l\n",
    "    i = l\n",
    "    while i <= r:\n",
    "        if a[i] < x:\n",
    "            a[i], a[j] = a[j], a[i]\n",
    "            j += 1\n",
    "            i += 1\n",
    "        elif a[i] > x:\n",
    "            a[i], a[r] = a[r], a[i]\n",
    "            r -= 1\n",
    "        else:\n",
    "            i += 1\n",
    "\n",
    "    return [j ,r]\n",
    "    \n",
    "    \n",
    "\n",
    "def partition2(a, l, r):\n",
    "    x = a[l]\n",
    "    j = l\n",
    "    for i in range(l + 1, r + 1):\n",
    "        if a[i] <= x:\n",
    "            j += 1\n",
    "            a[i], a[j] = a[j], a[i]\n",
    "    a[l], a[j] = a[j], a[l]\n",
    "    return j\n",
    "\n",
    "\n",
    "def randomized_quick_sort(a, l, r):\n",
    "    if l >= r:\n",
    "        return\n",
    "    k = random.randint(l, r)\n",
    "    a[l], a[k] = a[k], a[l]\n",
    "    #use partition3\n",
    "    m = partition3(a, l, r)\n",
    "    randomized_quick_sort(a, l, m[0] - 1);\n",
    "    randomized_quick_sort(a, m[1] + 1, r);"
   ]
  },
  {
   "cell_type": "markdown",
   "metadata": {},
   "source": [
    "## _Selection sort_"
   ]
  },
  {
   "cell_type": "code",
   "execution_count": 29,
   "metadata": {},
   "outputs": [
    {
     "data": {
      "text/plain": [
       "[2, 2, 2, 3, 9]"
      ]
     },
     "execution_count": 29,
     "metadata": {},
     "output_type": "execute_result"
    }
   ],
   "source": [
    "def selection_sort(a):\n",
    "    sorted_a = []\n",
    "    while True:\n",
    "        min_element = min(a)\n",
    "        sorted_a.append(min_element)\n",
    "        a.remove(min_element)\n",
    "        if len(a) == 0:\n",
    "            return sorted_a\n",
    "        \n",
    "# manual way\n",
    "def selection_sort(a):\n",
    "    for i in range(len(a)):\n",
    "        min_index = i\n",
    "        for j in range(i+1,len(a)):\n",
    "            if a[j] < a[min_index]:\n",
    "                min_index = j\n",
    "        a[i], a[min_index] = a[min_index], a[i]\n",
    "    return a\n",
    "\n",
    "a = [2,3,9,2,2]\n",
    "selection_sort(a)"
   ]
  },
  {
   "cell_type": "markdown",
   "metadata": {},
   "source": [
    "## _Merge Sort_"
   ]
  },
  {
   "cell_type": "code",
   "execution_count": 10,
   "metadata": {},
   "outputs": [
    {
     "data": {
      "text/plain": [
       "[2, 2, 3, 9, 9]"
      ]
     },
     "execution_count": 10,
     "metadata": {},
     "output_type": "execute_result"
    }
   ],
   "source": [
    "a = [7,2,5,3,7,13,1,6]\n",
    "# a = [2,3,9,2,2]\n",
    "a = [2,3,9,2,9]\n",
    "\n",
    "def merge_sort(a):\n",
    "#     inv = 0\n",
    "    if len(a) > 1:\n",
    "        mid = len(a)//2\n",
    "        l_arr = a[:mid]\n",
    "        r_arr = a[mid:]\n",
    "        \n",
    "        l_arr = merge_sort(l_arr)\n",
    "        r_arr = merge_sort(r_arr)\n",
    "        \n",
    "        a = []\n",
    "      \n",
    "        \n",
    "        while len(l_arr)>0 and len(r_arr)>0:\n",
    "            if l_arr[0] < r_arr[0]:\n",
    "                a.append(l_arr[0])\n",
    "                l_arr.pop(0)\n",
    "            else:\n",
    "#                 inv += 1\n",
    "                a.append(r_arr[0])\n",
    "                r_arr.pop(0)\n",
    "        \n",
    "        for i in l_arr:\n",
    "            a.append(i)\n",
    "        \n",
    "        for i in r_arr:\n",
    "            a.append(i)\n",
    "    \n",
    "    return a\n",
    "        \n",
    "merge_sort(a)"
   ]
  },
  {
   "cell_type": "code",
   "execution_count": 19,
   "metadata": {},
   "outputs": [],
   "source": [
    "nums = [1,1,1]\n",
    "k = 2\n",
    "curr_sum = 0\n",
    "count = 0\n",
    "i = j = 0\n",
    "\n",
    "\n",
    "for i in range(len(nums)):\n",
    "    while curr_sum <= k:\n",
    "        if j == len(nums):\n",
    "            break\n",
    "        curr_sum += nums[j]\n",
    "        j += 1\n",
    "        \n",
    "    curr_sum = 0\n",
    "    count +=1\n",
    "    j = i\n",
    "            "
   ]
  },
  {
   "cell_type": "code",
   "execution_count": 20,
   "metadata": {},
   "outputs": [
    {
     "data": {
      "text/plain": [
       "3"
      ]
     },
     "execution_count": 20,
     "metadata": {},
     "output_type": "execute_result"
    }
   ],
   "source": [
    "count"
   ]
  },
  {
   "cell_type": "code",
   "execution_count": 74,
   "metadata": {},
   "outputs": [],
   "source": [
    "# nums = [-1,-1,1]\n",
    "# k = 0\n",
    "\n",
    "nums = [1,1,1]\n",
    "k = 2\n",
    "\n",
    "def subarraySum(nums, k):\n",
    "\n",
    "    count = 0\n",
    "    i = 0\n",
    "    j = 1\n",
    "    curr_sum = nums[0]\n",
    "    if len(nums) == 1:\n",
    "        if nums[0] == k:\n",
    "            return 1\n",
    "        else:\n",
    "            return 0\n",
    "        \n",
    "    while i < len(nums)-1:\n",
    "        while curr_sum <= k and j < len(nums):\n",
    "            curr_sum += nums[j]\n",
    "            j +=1\n",
    "            \n",
    "            if curr_sum == k:\n",
    "                count +=1\n",
    "\n",
    "        i += 1\n",
    "        j = i + 1\n",
    "        curr_sum = nums[i]\n",
    "\n",
    "    return count"
   ]
  },
  {
   "cell_type": "code",
   "execution_count": 75,
   "metadata": {},
   "outputs": [
    {
     "name": "stdout",
     "output_type": "stream",
     "text": [
      "1\n",
      "2\n",
      "2\n"
     ]
    },
    {
     "data": {
      "text/plain": [
       "2"
      ]
     },
     "execution_count": 75,
     "metadata": {},
     "output_type": "execute_result"
    }
   ],
   "source": [
    "subarraySum(nums, k)"
   ]
  },
  {
   "cell_type": "code",
   "execution_count": null,
   "metadata": {},
   "outputs": [],
   "source": []
  }
 ],
 "metadata": {
  "kernelspec": {
   "display_name": "Python 3",
   "language": "python",
   "name": "python3"
  },
  "language_info": {
   "codemirror_mode": {
    "name": "ipython",
    "version": 3
   },
   "file_extension": ".py",
   "mimetype": "text/x-python",
   "name": "python",
   "nbconvert_exporter": "python",
   "pygments_lexer": "ipython3",
   "version": "3.7.7"
  }
 },
 "nbformat": 4,
 "nbformat_minor": 4
}
