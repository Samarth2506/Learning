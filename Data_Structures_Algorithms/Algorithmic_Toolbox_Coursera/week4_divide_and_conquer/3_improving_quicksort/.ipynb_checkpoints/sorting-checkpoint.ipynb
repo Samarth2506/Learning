{
 "cells": [
  {
   "cell_type": "code",
   "execution_count": 6,
   "metadata": {},
   "outputs": [],
   "source": [
    "import random\n",
    "\n",
    "def partition3(a, l, r):\n",
    "    #write your code here\n",
    "    x = a[l]\n",
    "    j = l\n",
    "    i = l\n",
    "    while i <= r:\n",
    "        if a[i] < x:\n",
    "            a[i], a[j] = a[j], a[i]\n",
    "            j += 1\n",
    "            i += 1\n",
    "        elif a[i] > x:\n",
    "            a[i], a[r] = a[r], a[i]\n",
    "            r -= 1\n",
    "        else:\n",
    "            i += 1\n",
    "\n",
    "    return [j ,r]\n",
    "    \n",
    "    \n",
    "\n",
    "def partition2(a, l, r):\n",
    "    x = a[l]\n",
    "    j = l\n",
    "    for i in range(l + 1, r + 1):\n",
    "        if a[i] <= x:\n",
    "            j += 1\n",
    "            a[i], a[j] = a[j], a[i]\n",
    "    a[l], a[j] = a[j], a[l]\n",
    "    return j\n",
    "\n",
    "\n",
    "def randomized_quick_sort(a, l, r):\n",
    "    if l >= r:\n",
    "        return\n",
    "    k = random.randint(l, r)\n",
    "    a[l], a[k] = a[k], a[l]\n",
    "    #use partition3\n",
    "    m = partition3(a, l, r)\n",
    "    randomized_quick_sort(a, l, m[0] - 1);\n",
    "    randomized_quick_sort(a, m[1] + 1, r);"
   ]
  },
  {
   "cell_type": "markdown",
   "metadata": {},
   "source": [
    "## _Selection sort_"
   ]
  },
  {
   "cell_type": "code",
   "execution_count": 29,
   "metadata": {},
   "outputs": [
    {
     "data": {
      "text/plain": [
       "[2, 2, 2, 3, 9]"
      ]
     },
     "execution_count": 29,
     "metadata": {},
     "output_type": "execute_result"
    }
   ],
   "source": [
    "def selection_sort(a):\n",
    "    sorted_a = []\n",
    "    while True:\n",
    "        min_element = min(a)\n",
    "        sorted_a.append(min_element)\n",
    "        a.remove(min_element)\n",
    "        if len(a) == 0:\n",
    "            return sorted_a\n",
    "        \n",
    "# manual way\n",
    "def selection_sort(a):\n",
    "    for i in range(len(a)):\n",
    "        min_index = i\n",
    "        for j in range(i+1,len(a)):\n",
    "            if a[j] < a[min_index]:\n",
    "                min_index = j\n",
    "        a[i], a[min_index] = a[min_index], a[i]\n",
    "    return a\n",
    "\n",
    "a = [2,3,9,2,2]\n",
    "selection_sort(a)"
   ]
  },
  {
   "cell_type": "markdown",
   "metadata": {},
   "source": [
    "## _Merge Sort_"
   ]
  },
  {
   "cell_type": "code",
   "execution_count": 5,
   "metadata": {},
   "outputs": [
    {
     "name": "stdout",
     "output_type": "stream",
     "text": [
      "[7, 2, 5, 3, 7, 13, 1, 6]\n",
      "[7, 2, 5, 3]\n",
      "[7, 2]\n",
      "[7]\n",
      "[2]\n",
      "[5, 3]\n",
      "[5]\n",
      "[3]\n",
      "[7, 13, 1, 6]\n",
      "[7, 13]\n",
      "[7]\n",
      "[13]\n",
      "[1, 6]\n",
      "[1]\n",
      "[6]\n"
     ]
    },
    {
     "data": {
      "text/plain": [
       "[1, 2, 3, 5, 6, 7, 7, 13]"
      ]
     },
     "execution_count": 5,
     "metadata": {},
     "output_type": "execute_result"
    }
   ],
   "source": [
    "a = [7,2,5,3,7,13,1,6]\n",
    "# a = [2,3,9,2,2]\n",
    "\n",
    "def merge_sort(a):\n",
    "    print(a)\n",
    "    if len(a) > 1:\n",
    "        mid = len(a)//2\n",
    "        l_arr = a[:mid]\n",
    "        r_arr = a[mid:]\n",
    "        \n",
    "        l_arr = merge_sort(l_arr)\n",
    "        r_arr = merge_sort(r_arr)\n",
    "        \n",
    "        a = []\n",
    "        \n",
    "        while len(l_arr)>0 and len(r_arr)>0:\n",
    "            if l_arr[0] < r_arr[0]:\n",
    "                a.append(l_arr[0])\n",
    "                l_arr.pop(0)\n",
    "            else:\n",
    "                a.append(r_arr[0])\n",
    "                r_arr.pop(0)\n",
    "        \n",
    "        for i in l_arr:\n",
    "            a.append(i)\n",
    "        \n",
    "        for i in r_arr:\n",
    "            a.append(i)\n",
    "    \n",
    "    return a\n",
    "        \n",
    "merge_sort(a)"
   ]
  },
  {
   "cell_type": "code",
   "execution_count": null,
   "metadata": {},
   "outputs": [],
   "source": []
  }
 ],
 "metadata": {
  "kernelspec": {
   "display_name": "Python 3",
   "language": "python",
   "name": "python3"
  },
  "language_info": {
   "codemirror_mode": {
    "name": "ipython",
    "version": 3
   },
   "file_extension": ".py",
   "mimetype": "text/x-python",
   "name": "python",
   "nbconvert_exporter": "python",
   "pygments_lexer": "ipython3",
   "version": "3.7.7"
  }
 },
 "nbformat": 4,
 "nbformat_minor": 4
}
