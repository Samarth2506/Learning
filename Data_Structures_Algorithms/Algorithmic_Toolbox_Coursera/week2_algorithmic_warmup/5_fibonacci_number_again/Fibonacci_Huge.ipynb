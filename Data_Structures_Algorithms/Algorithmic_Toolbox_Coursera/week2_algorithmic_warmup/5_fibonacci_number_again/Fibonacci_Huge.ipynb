{
 "cells": [
  {
   "cell_type": "code",
   "execution_count": 6,
   "metadata": {},
   "outputs": [],
   "source": [
    "# %load fibonacci_huge.py\n",
    "# Uses python3\n",
    "import sys\n",
    "\n",
    "def get_fibonacci_huge_naive(n):\n",
    "    if n <= 1:\n",
    "        return n\n",
    "\n",
    "    previous = 0\n",
    "    current  = 1\n",
    "\n",
    "    for _ in range(n - 1):\n",
    "        previous, current = current, previous + current\n",
    "\n",
    "    return current \n",
    "\n",
    "def get_period(m):\n",
    "    previous = 0\n",
    "    current = 1\n",
    "    \n",
    "    for i in range(m*m + 1):\n",
    "        previous, current = current, (previous+current)%m\n",
    "        if previous == 0 and current == 1:\n",
    "            return i + 1\n",
    "        \n",
    "def get_fib_huge(n,m):\n",
    "\n",
    "    len_rep = get_period(m)\n",
    "\n",
    "    rem = n%len_rep\n",
    "\n",
    "    return get_fibonacci_huge_naive(rem)%m\n",
    "    \n",
    "\n",
    "# if __name__ == '__main__':\n",
    "#     input = sys.stdin.read();\n",
    "#     n, m = map(int, input.split())\n",
    "#     print(get_fibonacci_huge_naive(n, m))\n"
   ]
  },
  {
   "cell_type": "code",
   "execution_count": 3,
   "metadata": {},
   "outputs": [
    {
     "data": {
      "text/plain": [
       "1"
      ]
     },
     "execution_count": 3,
     "metadata": {},
     "output_type": "execute_result"
    }
   ],
   "source": [
    "get_fib_huge(2015, 3)"
   ]
  },
  {
   "cell_type": "code",
   "execution_count": 4,
   "metadata": {},
   "outputs": [
    {
     "data": {
      "text/plain": [
       "161"
      ]
     },
     "execution_count": 4,
     "metadata": {},
     "output_type": "execute_result"
    }
   ],
   "source": [
    "get_fib_huge(239,1000)"
   ]
  },
  {
   "cell_type": "code",
   "execution_count": 5,
   "metadata": {},
   "outputs": [
    {
     "data": {
      "text/plain": [
       "151"
      ]
     },
     "execution_count": 5,
     "metadata": {},
     "output_type": "execute_result"
    }
   ],
   "source": [
    "get_fib_huge(2816213588,239)"
   ]
  },
  {
   "cell_type": "code",
   "execution_count": null,
   "metadata": {},
   "outputs": [],
   "source": []
  }
 ],
 "metadata": {
  "kernelspec": {
   "display_name": "Python 3",
   "language": "python",
   "name": "python3"
  },
  "language_info": {
   "codemirror_mode": {
    "name": "ipython",
    "version": 3
   },
   "file_extension": ".py",
   "mimetype": "text/x-python",
   "name": "python",
   "nbconvert_exporter": "python",
   "pygments_lexer": "ipython3",
   "version": "3.7.4"
  }
 },
 "nbformat": 4,
 "nbformat_minor": 2
}
