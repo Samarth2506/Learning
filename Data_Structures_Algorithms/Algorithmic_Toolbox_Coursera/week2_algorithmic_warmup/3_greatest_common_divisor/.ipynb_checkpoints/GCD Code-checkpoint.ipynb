{
 "cells": [
  {
   "cell_type": "markdown",
   "metadata": {},
   "source": [
    "## _Greatest Common Divisor Code_"
   ]
  },
  {
   "cell_type": "code",
   "execution_count": 6,
   "metadata": {},
   "outputs": [],
   "source": [
    "# %load gcd.py\n",
    "# Uses python3\n",
    "import sys\n",
    "import time\n",
    "\n",
    "def gcd_naive(a, b):\n",
    "    current_gcd = 1\n",
    "    for d in range(2, min(a, b) + 1):\n",
    "        if a % d == 0 and b % d == 0:\n",
    "            if d > current_gcd:\n",
    "                current_gcd = d\n",
    "\n",
    "    return current_gcd\n",
    "\n",
    "# if __name__ == \"__main__\":\n",
    "#     input = sys.stdin.read()\n",
    "#     a, b = map(int, input.split())\n",
    "#     print(gcd_naive(a, b))\n"
   ]
  },
  {
   "cell_type": "code",
   "execution_count": 7,
   "metadata": {},
   "outputs": [
    {
     "name": "stdout",
     "output_type": "stream",
     "text": [
      "17657\n",
      "0.08204293251037598\n"
     ]
    }
   ],
   "source": [
    "start = time.time()\n",
    "print(gcd_naive(28851538,1183019))\n",
    "end = time.time()\n",
    "print(end - start)"
   ]
  },
  {
   "cell_type": "code",
   "execution_count": 9,
   "metadata": {},
   "outputs": [],
   "source": [
    "def gcd(a,b):\n",
    "    if b == 0:\n",
    "        return a\n",
    "    while True:\n",
    "        rem = a % b\n",
    "        if rem == 0:\n",
    "            return b\n",
    "        a = gcd_naive(b,rem)\n",
    "        b = rem\n",
    "        \n",
    "    "
   ]
  },
  {
   "cell_type": "code",
   "execution_count": 11,
   "metadata": {},
   "outputs": [
    {
     "name": "stdout",
     "output_type": "stream",
     "text": [
      "17657\n",
      "0.038985252380371094\n"
     ]
    }
   ],
   "source": [
    "start = time.time()\n",
    "print(gcd(28851538,1183019))\n",
    "end = time.time()\n",
    "print(end - start)"
   ]
  },
  {
   "cell_type": "code",
   "execution_count": null,
   "metadata": {},
   "outputs": [],
   "source": []
  }
 ],
 "metadata": {
  "kernelspec": {
   "display_name": "Python 3",
   "language": "python",
   "name": "python3"
  },
  "language_info": {
   "codemirror_mode": {
    "name": "ipython",
    "version": 3
   },
   "file_extension": ".py",
   "mimetype": "text/x-python",
   "name": "python",
   "nbconvert_exporter": "python",
   "pygments_lexer": "ipython3",
   "version": "3.7.4"
  }
 },
 "nbformat": 4,
 "nbformat_minor": 2
}
